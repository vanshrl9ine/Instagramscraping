{
 "cells": [
  {
   "cell_type": "code",
   "execution_count": 1,
   "id": "d1196794-99a3-4f0d-a858-c6d658c8e984",
   "metadata": {},
   "outputs": [],
   "source": [
    "#imports here\n",
    "from selenium import webdriver\n",
    "from selenium.webdriver.common.keys import Keys\n",
    "from selenium.webdriver.support import expected_conditions as EC\n",
    "from selenium.webdriver.common.by import By\n",
    "from selenium.webdriver.support.wait import WebDriverWait"
   ]
  },
  {
   "cell_type": "code",
   "execution_count": 2,
   "id": "f12213c9-1617-4110-93cb-4b163e4c836a",
   "metadata": {},
   "outputs": [],
   "source": [
    "driver=webdriver.Chrome()\n",
    "driver.get(\"http://www.instagram.com\")"
   ]
  },
  {
   "cell_type": "code",
   "execution_count": 3,
   "id": "3d1010ba-b7ab-437a-905f-1776ada81240",
   "metadata": {},
   "outputs": [],
   "source": [
    "username = WebDriverWait(driver, 10).until(EC.element_to_be_clickable((By.CSS_SELECTOR, \"input[name='username']\")))\n",
    "password = WebDriverWait(driver, 10).until(EC.element_to_be_clickable((By.CSS_SELECTOR, \"input[name='password']\")))\n",
    "#EC-expected condition"
   ]
  },
  {
   "cell_type": "code",
   "execution_count": 4,
   "id": "cec1a27b-df63-4183-b307-6f774200088a",
   "metadata": {},
   "outputs": [],
   "source": [
    "username.clear()\n",
    "password.clear()"
   ]
  },
  {
   "cell_type": "code",
   "execution_count": 5,
   "id": "d62af7a3-fc85-49c1-8767-13421a9bee96",
   "metadata": {},
   "outputs": [],
   "source": [
    "username.send_keys(\"vanshrl09.freestyle\")\n",
    "password.send_keys(\"vansh1900\")"
   ]
  },
  {
   "cell_type": "code",
   "execution_count": 6,
   "id": "99d42301-76dc-489f-8784-3698019bd63e",
   "metadata": {},
   "outputs": [],
   "source": [
    "login = WebDriverWait(driver, 2).until(EC.element_to_be_clickable((By.CSS_SELECTOR, \"button[type='submit']\"))).click()\n"
   ]
  },
  {
   "cell_type": "code",
   "execution_count": 7,
   "id": "8925d8b6-20e8-4f5f-87ff-76e2a87b618d",
   "metadata": {},
   "outputs": [],
   "source": [
    "not_now = WebDriverWait(driver, 10).until(EC.element_to_be_clickable((By.XPATH, '//div[contains(@class, \"x1i10hfl\") and contains(text(), \"Not Now\")]'))).click()"
   ]
  },
  {
   "cell_type": "code",
   "execution_count": 8,
   "id": "5138bc65-3619-4da0-b22e-1ac4a6075e5d",
   "metadata": {},
   "outputs": [],
   "source": [
    "login = WebDriverWait(driver, 2).until(EC.element_to_be_clickable((By.CSS_SELECTOR, \"button[class='_a9-- _a9_1']\"))).click()"
   ]
  },
  {
   "cell_type": "code",
   "execution_count": 9,
   "id": "eadc78f7-72f0-4269-bdab-b6f54ddbb560",
   "metadata": {},
   "outputs": [],
   "source": [
    "explore = WebDriverWait(driver, 2).until(EC.element_to_be_clickable((By.CSS_SELECTOR, \"svg[aria-label='Explore']\"))).click()\n"
   ]
  },
  {
   "cell_type": "code",
   "execution_count": 10,
   "id": "d3897d33-39b8-4d7b-810e-928b0a0748f1",
   "metadata": {},
   "outputs": [],
   "source": [
    "first_post = WebDriverWait(driver, 10).until(EC.element_to_be_clickable((By.XPATH, '//div[contains(@class, \"_aagu\")]'))).click()"
   ]
  },
  {
   "cell_type": "code",
   "execution_count": 11,
   "id": "a6b39856-e8cd-48d9-b2b8-e4709ec618e6",
   "metadata": {},
   "outputs": [],
   "source": [
    "# likes_count_element = driver.find_element(By.XPATH, '//span[contains(@class, \"html-span\")]')\n",
    "\n",
    "# # Get the text of the <span> element\n",
    "# likes_count_text = likes_count_element.text\n",
    "\n",
    "# # Remove any commas from the likes count\n",
    "# likes_count = int(likes_count_text.replace(',', ''))\n",
    "\n",
    "# print(likes_count)"
   ]
  },
  {
   "cell_type": "code",
   "execution_count": 12,
   "id": "bb4127a3",
   "metadata": {},
   "outputs": [],
   "source": [
    "# close = WebDriverWait(driver, 2).until(EC.element_to_be_clickable((By.CSS_SELECTOR, \"svg[aria-label='Close']\"))).click()"
   ]
  },
  {
   "cell_type": "code",
   "execution_count": 13,
   "id": "981379c1",
   "metadata": {},
   "outputs": [],
   "source": [
    "# nextButton = WebDriverWait(driver, 5).until(EC.element_to_be_clickable((By.CSS_SELECTOR, \"svg[aria-label='Next']\"))).click()"
   ]
  },
  {
   "cell_type": "code",
   "execution_count": 14,
   "id": "052e5453",
   "metadata": {},
   "outputs": [],
   "source": [
    "from selenium.common.exceptions import NoSuchElementException"
   ]
  },
  {
   "cell_type": "code",
   "execution_count": null,
   "id": "7cfc6329",
   "metadata": {
    "scrolled": true
   },
   "outputs": [
    {
     "name": "stdout",
     "output_type": "stream",
     "text": [
      "2,937\n",
      "1\n",
      "\n",
      "206,684\n",
      "2\n",
      "\n",
      "9,128\n",
      "3\n",
      "\n",
      "442,286\n",
      "4\n",
      "\n",
      "5,013\n",
      "5\n",
      "\n",
      "1,273\n",
      "6\n",
      "\n",
      "2,453\n",
      "7\n",
      "\n",
      "5,209\n",
      "8\n",
      "\n",
      "3,061\n",
      "9\n",
      "\n",
      "1,202\n",
      "10\n",
      "\n",
      "334\n",
      "11\n",
      "\n"
     ]
    }
   ],
   "source": [
    "from selenium.common.exceptions import NoSuchElementException\n",
    "from selenium.webdriver.common.by import By\n",
    "from selenium.webdriver.support.ui import WebDriverWait\n",
    "from selenium.webdriver.support import expected_conditions as EC\n",
    "\n",
    "counter = 0\n",
    "while counter != 100:\n",
    "    counter += 1\n",
    "\n",
    "    # Refresh the page every 10 iterations\n",
    "    if counter % 10 == 1:\n",
    "        driver.refresh()\n",
    "        \n",
    "        WebDriverWait(driver, 3000).until(EC.element_to_be_clickable((By.XPATH, '//div[contains(@class, \"_aagu\")]'))).click()\n",
    "    \n",
    "    try:\n",
    "        likes_count_element = WebDriverWait(driver, 3000).until(EC.presence_of_element_located((By.XPATH, '//span[contains(@class, \"html-span\")]')))\n",
    "        likes_count_text = likes_count_element.text\n",
    "        # You can add your code to process the likes_count_text here\n",
    "        print(likes_count_text)\n",
    "    except NoSuchElementException:\n",
    "        print(\"Element not found, continuing...\")\n",
    "    \n",
    "    print(counter)\n",
    "    print(\"\")\n",
    "    \n",
    "    try:\n",
    "        nextButton = WebDriverWait(driver, 3000).until(EC.element_to_be_clickable((By.CSS_SELECTOR, \"svg[aria-label='Next']\")))\n",
    "        nextButton.click()\n",
    "    except NoSuchElementException:\n",
    "        print(\"Next button not found, continuing to the next post...\")\n"
   ]
  },
  {
   "cell_type": "code",
   "execution_count": null,
   "id": "0fa54cde-af2f-4430-9a33-8571277d6262",
   "metadata": {},
   "outputs": [],
   "source": []
  },
  {
   "cell_type": "code",
   "execution_count": null,
   "id": "8250b544-211b-4fbc-9e55-ccc9b6f6d2fe",
   "metadata": {},
   "outputs": [],
   "source": []
  }
 ],
 "metadata": {
  "kernelspec": {
   "display_name": "firstEnv",
   "language": "python",
   "name": "firstenv"
  },
  "language_info": {
   "codemirror_mode": {
    "name": "ipython",
    "version": 3
   },
   "file_extension": ".py",
   "mimetype": "text/x-python",
   "name": "python",
   "nbconvert_exporter": "python",
   "pygments_lexer": "ipython3",
   "version": "3.10.0"
  }
 },
 "nbformat": 4,
 "nbformat_minor": 5
}
