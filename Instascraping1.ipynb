{
 "cells": [
  {
   "cell_type": "code",
   "execution_count": 1,
   "id": "d1196794-99a3-4f0d-a858-c6d658c8e984",
   "metadata": {},
   "outputs": [],
   "source": [
    "#imports here\n",
    "from selenium import webdriver\n",
    "from selenium.webdriver.common.keys import Keys\n",
    "from selenium.webdriver.support import expected_conditions as EC\n",
    "from selenium.webdriver.common.by import By\n",
    "from selenium.webdriver.support.wait import WebDriverWait"
   ]
  },
  {
   "cell_type": "code",
   "execution_count": 2,
   "id": "f12213c9-1617-4110-93cb-4b163e4c836a",
   "metadata": {},
   "outputs": [],
   "source": [
    "driver=webdriver.Chrome()\n",
    "driver.get(\"http://www.instagram.com\")"
   ]
  },
  {
   "cell_type": "code",
   "execution_count": 3,
   "id": "3d1010ba-b7ab-437a-905f-1776ada81240",
   "metadata": {},
   "outputs": [],
   "source": [
    "username = WebDriverWait(driver, 10).until(EC.element_to_be_clickable((By.CSS_SELECTOR, \"input[name='username']\")))\n",
    "password = WebDriverWait(driver, 10).until(EC.element_to_be_clickable((By.CSS_SELECTOR, \"input[name='password']\")))\n",
    "#EC-expected condition"
   ]
  },
  {
   "cell_type": "code",
   "execution_count": 4,
   "id": "cec1a27b-df63-4183-b307-6f774200088a",
   "metadata": {},
   "outputs": [],
   "source": [
    "username.clear()\n",
    "password.clear()"
   ]
  },
  {
   "cell_type": "code",
   "execution_count": 5,
   "id": "d62af7a3-fc85-49c1-8767-13421a9bee96",
   "metadata": {},
   "outputs": [],
   "source": [
    "username.send_keys(\"vanshrl09.freestyle\")\n",
    "password.send_keys(\"vansh1900\")"
   ]
  },
  {
   "cell_type": "code",
   "execution_count": 6,
   "id": "99d42301-76dc-489f-8784-3698019bd63e",
   "metadata": {},
   "outputs": [],
   "source": [
    "login = WebDriverWait(driver, 2).until(EC.element_to_be_clickable((By.CSS_SELECTOR, \"button[type='submit']\"))).click()\n"
   ]
  },
  {
   "cell_type": "code",
   "execution_count": 7,
   "id": "8925d8b6-20e8-4f5f-87ff-76e2a87b618d",
   "metadata": {},
   "outputs": [],
   "source": [
    "not_now = WebDriverWait(driver, 10).until(EC.element_to_be_clickable((By.XPATH, '//div[contains(@class, \"x1i10hfl\") and contains(text(), \"Not Now\")]'))).click()"
   ]
  },
  {
   "cell_type": "code",
   "execution_count": 8,
   "id": "5138bc65-3619-4da0-b22e-1ac4a6075e5d",
   "metadata": {},
   "outputs": [],
   "source": [
    "login = WebDriverWait(driver, 2).until(EC.element_to_be_clickable((By.CSS_SELECTOR, \"button[class='_a9-- _a9_1']\"))).click()"
   ]
  },
  {
   "cell_type": "code",
   "execution_count": 9,
   "id": "eadc78f7-72f0-4269-bdab-b6f54ddbb560",
   "metadata": {},
   "outputs": [],
   "source": [
    "explore = WebDriverWait(driver, 2).until(EC.element_to_be_clickable((By.CSS_SELECTOR, \"svg[aria-label='Explore']\"))).click()"
   ]
  },
  {
   "cell_type": "code",
   "execution_count": 23,
   "id": "d3897d33-39b8-4d7b-810e-928b0a0748f1",
   "metadata": {},
   "outputs": [],
   "source": [
    "first_post = WebDriverWait(driver, 10).until(EC.element_to_be_clickable((By.XPATH, '//div[contains(@class, \"_aagu\")]'))).click()"
   ]
  },
  {
   "cell_type": "code",
   "execution_count": 24,
   "id": "a6b39856-e8cd-48d9-b2b8-e4709ec618e6",
   "metadata": {},
   "outputs": [
    {
     "name": "stdout",
     "output_type": "stream",
     "text": [
      "505\n"
     ]
    }
   ],
   "source": [
    "# likes_count_element = driver.find_element(By.XPATH, '//span[contains(@class, \"html-span\")]')\n",
    "\n",
    "# # Get the text of the <span> element\n",
    "# likes_count_text = likes_count_element.text\n",
    "\n",
    "# # Remove any commas from the likes count\n",
    "# likes_count = int(likes_count_text.replace(',', ''))\n",
    "\n",
    "# print(likes_count)"
   ]
  },
  {
   "cell_type": "code",
   "execution_count": 12,
   "id": "bb4127a3",
   "metadata": {},
   "outputs": [],
   "source": [
    "# close = WebDriverWait(driver, 2).until(EC.element_to_be_clickable((By.CSS_SELECTOR, \"svg[aria-label='Close']\"))).click()"
   ]
  },
  {
   "cell_type": "code",
   "execution_count": 25,
   "id": "981379c1",
   "metadata": {},
   "outputs": [],
   "source": [
    "# nextButton = WebDriverWait(driver, 5).until(EC.element_to_be_clickable((By.CSS_SELECTOR, \"svg[aria-label='Next']\"))).click()"
   ]
  },
  {
   "cell_type": "code",
   "execution_count": 85,
   "id": "7cfc6329",
   "metadata": {},
   "outputs": [
    {
     "name": "stdout",
     "output_type": "stream",
     "text": [
      "5,440\n",
      "1\n",
      "\n",
      "5,990\n",
      "2\n",
      "\n",
      "90,031\n",
      "3\n",
      "\n",
      "3,306\n",
      "4\n",
      "\n",
      "321\n",
      "5\n",
      "\n",
      "2,351\n",
      "6\n",
      "\n",
      "1,501\n",
      "7\n",
      "\n",
      "5,099\n",
      "8\n",
      "\n",
      "1,201\n",
      "9\n",
      "\n"
     ]
    },
    {
     "ename": "NoSuchElementException",
     "evalue": "Message: no such element: Unable to locate element: {\"method\":\"xpath\",\"selector\":\"//span[contains(@class, \"html-span\")]\"}\n  (Session info: chrome=118.0.5993.117); For documentation on this error, please visit: https://www.selenium.dev/documentation/webdriver/troubleshooting/errors#no-such-element-exception\nStacktrace:\n\tGetHandleVerifier [0x00007FF682918EF2+54786]\n\t(No symbol) [0x00007FF682885612]\n\t(No symbol) [0x00007FF68273A64B]\n\t(No symbol) [0x00007FF68277B79C]\n\t(No symbol) [0x00007FF68277B91C]\n\t(No symbol) [0x00007FF6827B6D87]\n\t(No symbol) [0x00007FF68279BEAF]\n\t(No symbol) [0x00007FF6827B4D02]\n\t(No symbol) [0x00007FF68279BC43]\n\t(No symbol) [0x00007FF682770941]\n\t(No symbol) [0x00007FF682771B84]\n\tGetHandleVerifier [0x00007FF682C67F52+3524194]\n\tGetHandleVerifier [0x00007FF682CBD800+3874576]\n\tGetHandleVerifier [0x00007FF682CB5D7F+3843215]\n\tGetHandleVerifier [0x00007FF6829B5086+694166]\n\t(No symbol) [0x00007FF682890A88]\n\t(No symbol) [0x00007FF68288CA94]\n\t(No symbol) [0x00007FF68288CBC2]\n\t(No symbol) [0x00007FF68287CC83]\n\tBaseThreadInitThunk [0x00007FFE0915257D+29]\n\tRtlUserThreadStart [0x00007FFE0A24AA78+40]\n",
     "output_type": "error",
     "traceback": [
      "\u001b[1;31m---------------------------------------------------------------------------\u001b[0m",
      "\u001b[1;31mNoSuchElementException\u001b[0m                    Traceback (most recent call last)",
      "Cell \u001b[1;32mIn[85], line 7\u001b[0m\n\u001b[0;32m      4\u001b[0m \u001b[38;5;28;01mif\u001b[39;00m counter\u001b[38;5;241m==\u001b[39m\u001b[38;5;241m1\u001b[39m:\n\u001b[0;32m      5\u001b[0m     first_post \u001b[38;5;241m=\u001b[39m WebDriverWait(driver, \u001b[38;5;241m10\u001b[39m)\u001b[38;5;241m.\u001b[39muntil(EC\u001b[38;5;241m.\u001b[39melement_to_be_clickable((By\u001b[38;5;241m.\u001b[39mXPATH, \u001b[38;5;124m'\u001b[39m\u001b[38;5;124m//div[contains(@class, \u001b[39m\u001b[38;5;124m\"\u001b[39m\u001b[38;5;124m_aagu\u001b[39m\u001b[38;5;124m\"\u001b[39m\u001b[38;5;124m)]\u001b[39m\u001b[38;5;124m'\u001b[39m)))\u001b[38;5;241m.\u001b[39mclick()\n\u001b[1;32m----> 7\u001b[0m likes_count_element \u001b[38;5;241m=\u001b[39m \u001b[43mdriver\u001b[49m\u001b[38;5;241;43m.\u001b[39;49m\u001b[43mfind_element\u001b[49m\u001b[43m(\u001b[49m\u001b[43mBy\u001b[49m\u001b[38;5;241;43m.\u001b[39;49m\u001b[43mXPATH\u001b[49m\u001b[43m,\u001b[49m\u001b[43m \u001b[49m\u001b[38;5;124;43m'\u001b[39;49m\u001b[38;5;124;43m//span[contains(@class, \u001b[39;49m\u001b[38;5;124;43m\"\u001b[39;49m\u001b[38;5;124;43mhtml-span\u001b[39;49m\u001b[38;5;124;43m\"\u001b[39;49m\u001b[38;5;124;43m)]\u001b[39;49m\u001b[38;5;124;43m'\u001b[39;49m\u001b[43m)\u001b[49m\n\u001b[0;32m      8\u001b[0m \u001b[38;5;28;01mif\u001b[39;00m \u001b[38;5;124m\"\u001b[39m\u001b[38;5;124mLiked by\u001b[39m\u001b[38;5;124m\"\u001b[39m \u001b[38;5;129;01min\u001b[39;00m likes_count_text:\n\u001b[0;32m      9\u001b[0m         nextButton \u001b[38;5;241m=\u001b[39m WebDriverWait(driver, \u001b[38;5;241m100\u001b[39m)\u001b[38;5;241m.\u001b[39muntil(EC\u001b[38;5;241m.\u001b[39melement_to_be_clickable((By\u001b[38;5;241m.\u001b[39mCSS_SELECTOR, \u001b[38;5;124m\"\u001b[39m\u001b[38;5;124msvg[aria-label=\u001b[39m\u001b[38;5;124m'\u001b[39m\u001b[38;5;124mNext\u001b[39m\u001b[38;5;124m'\u001b[39m\u001b[38;5;124m]\u001b[39m\u001b[38;5;124m\"\u001b[39m)))\u001b[38;5;241m.\u001b[39mclick()\n",
      "File \u001b[1;32m~\\anaconda3\\envs\\tf_gpu\\lib\\site-packages\\selenium\\webdriver\\remote\\webdriver.py:738\u001b[0m, in \u001b[0;36mWebDriver.find_element\u001b[1;34m(self, by, value)\u001b[0m\n\u001b[0;32m    735\u001b[0m     by \u001b[38;5;241m=\u001b[39m By\u001b[38;5;241m.\u001b[39mCSS_SELECTOR\n\u001b[0;32m    736\u001b[0m     value \u001b[38;5;241m=\u001b[39m \u001b[38;5;124mf\u001b[39m\u001b[38;5;124m'\u001b[39m\u001b[38;5;124m[name=\u001b[39m\u001b[38;5;124m\"\u001b[39m\u001b[38;5;132;01m{\u001b[39;00mvalue\u001b[38;5;132;01m}\u001b[39;00m\u001b[38;5;124m\"\u001b[39m\u001b[38;5;124m]\u001b[39m\u001b[38;5;124m'\u001b[39m\n\u001b[1;32m--> 738\u001b[0m \u001b[38;5;28;01mreturn\u001b[39;00m \u001b[38;5;28;43mself\u001b[39;49m\u001b[38;5;241;43m.\u001b[39;49m\u001b[43mexecute\u001b[49m\u001b[43m(\u001b[49m\u001b[43mCommand\u001b[49m\u001b[38;5;241;43m.\u001b[39;49m\u001b[43mFIND_ELEMENT\u001b[49m\u001b[43m,\u001b[49m\u001b[43m \u001b[49m\u001b[43m{\u001b[49m\u001b[38;5;124;43m\"\u001b[39;49m\u001b[38;5;124;43musing\u001b[39;49m\u001b[38;5;124;43m\"\u001b[39;49m\u001b[43m:\u001b[49m\u001b[43m \u001b[49m\u001b[43mby\u001b[49m\u001b[43m,\u001b[49m\u001b[43m \u001b[49m\u001b[38;5;124;43m\"\u001b[39;49m\u001b[38;5;124;43mvalue\u001b[39;49m\u001b[38;5;124;43m\"\u001b[39;49m\u001b[43m:\u001b[49m\u001b[43m \u001b[49m\u001b[43mvalue\u001b[49m\u001b[43m}\u001b[49m\u001b[43m)\u001b[49m[\u001b[38;5;124m\"\u001b[39m\u001b[38;5;124mvalue\u001b[39m\u001b[38;5;124m\"\u001b[39m]\n",
      "File \u001b[1;32m~\\anaconda3\\envs\\tf_gpu\\lib\\site-packages\\selenium\\webdriver\\remote\\webdriver.py:344\u001b[0m, in \u001b[0;36mWebDriver.execute\u001b[1;34m(self, driver_command, params)\u001b[0m\n\u001b[0;32m    342\u001b[0m response \u001b[38;5;241m=\u001b[39m \u001b[38;5;28mself\u001b[39m\u001b[38;5;241m.\u001b[39mcommand_executor\u001b[38;5;241m.\u001b[39mexecute(driver_command, params)\n\u001b[0;32m    343\u001b[0m \u001b[38;5;28;01mif\u001b[39;00m response:\n\u001b[1;32m--> 344\u001b[0m     \u001b[38;5;28;43mself\u001b[39;49m\u001b[38;5;241;43m.\u001b[39;49m\u001b[43merror_handler\u001b[49m\u001b[38;5;241;43m.\u001b[39;49m\u001b[43mcheck_response\u001b[49m\u001b[43m(\u001b[49m\u001b[43mresponse\u001b[49m\u001b[43m)\u001b[49m\n\u001b[0;32m    345\u001b[0m     response[\u001b[38;5;124m\"\u001b[39m\u001b[38;5;124mvalue\u001b[39m\u001b[38;5;124m\"\u001b[39m] \u001b[38;5;241m=\u001b[39m \u001b[38;5;28mself\u001b[39m\u001b[38;5;241m.\u001b[39m_unwrap_value(response\u001b[38;5;241m.\u001b[39mget(\u001b[38;5;124m\"\u001b[39m\u001b[38;5;124mvalue\u001b[39m\u001b[38;5;124m\"\u001b[39m, \u001b[38;5;28;01mNone\u001b[39;00m))\n\u001b[0;32m    346\u001b[0m     \u001b[38;5;28;01mreturn\u001b[39;00m response\n",
      "File \u001b[1;32m~\\anaconda3\\envs\\tf_gpu\\lib\\site-packages\\selenium\\webdriver\\remote\\errorhandler.py:229\u001b[0m, in \u001b[0;36mErrorHandler.check_response\u001b[1;34m(self, response)\u001b[0m\n\u001b[0;32m    227\u001b[0m         alert_text \u001b[38;5;241m=\u001b[39m value[\u001b[38;5;124m\"\u001b[39m\u001b[38;5;124malert\u001b[39m\u001b[38;5;124m\"\u001b[39m]\u001b[38;5;241m.\u001b[39mget(\u001b[38;5;124m\"\u001b[39m\u001b[38;5;124mtext\u001b[39m\u001b[38;5;124m\"\u001b[39m)\n\u001b[0;32m    228\u001b[0m     \u001b[38;5;28;01mraise\u001b[39;00m exception_class(message, screen, stacktrace, alert_text)  \u001b[38;5;66;03m# type: ignore[call-arg]  # mypy is not smart enough here\u001b[39;00m\n\u001b[1;32m--> 229\u001b[0m \u001b[38;5;28;01mraise\u001b[39;00m exception_class(message, screen, stacktrace)\n",
      "\u001b[1;31mNoSuchElementException\u001b[0m: Message: no such element: Unable to locate element: {\"method\":\"xpath\",\"selector\":\"//span[contains(@class, \"html-span\")]\"}\n  (Session info: chrome=118.0.5993.117); For documentation on this error, please visit: https://www.selenium.dev/documentation/webdriver/troubleshooting/errors#no-such-element-exception\nStacktrace:\n\tGetHandleVerifier [0x00007FF682918EF2+54786]\n\t(No symbol) [0x00007FF682885612]\n\t(No symbol) [0x00007FF68273A64B]\n\t(No symbol) [0x00007FF68277B79C]\n\t(No symbol) [0x00007FF68277B91C]\n\t(No symbol) [0x00007FF6827B6D87]\n\t(No symbol) [0x00007FF68279BEAF]\n\t(No symbol) [0x00007FF6827B4D02]\n\t(No symbol) [0x00007FF68279BC43]\n\t(No symbol) [0x00007FF682770941]\n\t(No symbol) [0x00007FF682771B84]\n\tGetHandleVerifier [0x00007FF682C67F52+3524194]\n\tGetHandleVerifier [0x00007FF682CBD800+3874576]\n\tGetHandleVerifier [0x00007FF682CB5D7F+3843215]\n\tGetHandleVerifier [0x00007FF6829B5086+694166]\n\t(No symbol) [0x00007FF682890A88]\n\t(No symbol) [0x00007FF68288CA94]\n\t(No symbol) [0x00007FF68288CBC2]\n\t(No symbol) [0x00007FF68287CC83]\n\tBaseThreadInitThunk [0x00007FFE0915257D+29]\n\tRtlUserThreadStart [0x00007FFE0A24AA78+40]\n"
     ]
    }
   ],
   "source": [
    "counter=0\n",
    "while counter!=100:\n",
    "    counter+=1\n",
    "    if counter==1:\n",
    "        first_post = WebDriverWait(driver, 10).until(EC.element_to_be_clickable((By.XPATH, '//div[contains(@class, \"_aagu\")]'))).click()\n",
    "    \n",
    "    likes_count_element = driver.find_element(By.XPATH, '//span[contains(@class, \"html-span\")]')\n",
    "    if \"Liked by\" in likes_count_text:\n",
    "            nextButton = WebDriverWait(driver, 100).until(EC.element_to_be_clickable((By.CSS_SELECTOR, \"svg[aria-label='Next']\"))).click()\n",
    "\n",
    "    # Get the text of the <span> element\n",
    "    likes_count_text = likes_count_element.text\n",
    "\n",
    "    # Remove any commas from the likes count\n",
    "    # likes_count = int(likes_count_text.replace(',', ''))\n",
    "\n",
    "    print(likes_count_text)\n",
    "    print(counter)\n",
    "    print(\"\")\n",
    "    nextButton = WebDriverWait(driver, 100).until(EC.element_to_be_clickable((By.CSS_SELECTOR, \"svg[aria-label='Next']\"))).click()"
   ]
  },
  {
   "cell_type": "code",
   "execution_count": null,
   "id": "0fa54cde-af2f-4430-9a33-8571277d6262",
   "metadata": {},
   "outputs": [],
   "source": []
  },
  {
   "cell_type": "code",
   "execution_count": null,
   "id": "8250b544-211b-4fbc-9e55-ccc9b6f6d2fe",
   "metadata": {},
   "outputs": [],
   "source": []
  }
 ],
 "metadata": {
  "kernelspec": {
   "display_name": "firstEnv",
   "language": "python",
   "name": "firstenv"
  },
  "language_info": {
   "codemirror_mode": {
    "name": "ipython",
    "version": 3
   },
   "file_extension": ".py",
   "mimetype": "text/x-python",
   "name": "python",
   "nbconvert_exporter": "python",
   "pygments_lexer": "ipython3",
   "version": "3.10.0"
  }
 },
 "nbformat": 4,
 "nbformat_minor": 5
}
